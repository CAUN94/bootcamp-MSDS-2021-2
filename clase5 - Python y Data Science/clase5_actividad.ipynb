{
  "nbformat": 4,
  "nbformat_minor": 0,
  "metadata": {
    "colab": {
      "name": "clase4_actividad.ipynb",
      "provenance": []
    },
    "kernelspec": {
      "name": "python3",
      "display_name": "Python 3"
    },
    "language_info": {
      "name": "python"
    }
  },
  "cells": [
    {
      "cell_type": "markdown",
      "metadata": {
        "id": "R8Ehsg8XEGTS"
      },
      "source": [
        "# Pregunta 1:\n",
        "\n",
        "Existe un conjunto de datos en el archivo surveys.csv, adjunto. Este archivo posee datos de animales\n",
        "capturados para efectos de estudio, conforme a la siguiente descripción:\n",
        "Columna Descripción\n",
        "\n",
        "* record_id: identificador único de la observación\n",
        "* month: mes de observación\n",
        "* day: día de la observación\n",
        "* year: año de la observación\n",
        "* plot_id ID: de un sitio en particular\n",
        "* species_id: código de dos letras\n",
        "* sex: sexo del animal (“M”, “F”)\n",
        "* hindfoot_length: tamaño de pata en mm\n",
        "* weight: peso del animal en gramos\n",
        "\n",
        "Un registro de dicho archivo es el siguiente:\n",
        "* record_id: 1\n",
        "* month: 7\n",
        "* day: 16\n",
        "* year: 1977\n",
        "* plot_id: 2\n",
        "* species_id : NL\n",
        "* sex : M\n",
        "* hindfoot_length : 32\n",
        "* weight: 42\n",
        "\n",
        "Escriba un programa en Python que permita obtener lo siguiente:\n",
        "\n",
        "\n",
        "\n",
        "1.   El porcentaje en cantidad de filas del total donde existe el dato de peso (weight)\n",
        "2.   La desviación estándar y media del peso (weight)\n",
        "3.   Cuantos animales fueron observados/capturados en julio de 1985\n",
        "4.  Cuál es el máximo largo de pata para la especie identificada como ‘SH’\n",
        "\n",
        "\n"
      ]
    },
    {
      "cell_type": "code",
      "metadata": {
        "id": "8Q15JxO7Dqf3"
      },
      "source": [
        ""
      ],
      "execution_count": null,
      "outputs": []
    },
    {
      "cell_type": "markdown",
      "metadata": {
        "id": "Fr3FPz4wFEuj"
      },
      "source": [
        "# Pregunta 2\n",
        "Vamos a jugar un juego que se llama “Todos contra el Profesor”. La idea es simple: tanto el profesor\n",
        "como los alumnos (curso completo) parten con una cantidad de fichas, por ejemplo, 50. En cada turno,\n",
        "tanto el profesor como cada alumno tiran el dado. El número obtenido por el profesor se compara con el\n",
        "de cada alumno y se hace lo siguiente: si el profesor saca un número mayor entonces le saca una ficha a\n",
        "los alumnos, si son iguales no pasa nada y si el alumno saca un número mayor entonces le saca una ficha\n",
        "al profesor. El juego continúa hasta que alguien, los alumnos o el profesor, queda con cero fichas. Si es el\n",
        "profesor entonces todos los alumnos ganan 5 décimas en el examen. De lo contrario pierden 1 décima.\n",
        "\n",
        "Cree una función en Python llamada todos_contra_el_profesor, que reciba como parámetros el número\n",
        "de alumnos y la cantidad de fichas, simule el tiro de los dados con números aleatorios entre 1 y 6 y\n",
        "guarde en una matriz cada una de las jugadas de los estudiantes asociando el número del estudiante con\n",
        "el resultado obtenido (Ganó, Perdió, Empate). Utilice la siguiente tabla como referencia:\n",
        "\n",
        "* “Alumno” “Resultado”\n",
        "* “1” “Ganó”\n",
        "* ”2” “Perdió”\n",
        "* “3” “Perdió”\n",
        "* “4” “Empate”\n",
        "* “5” “Perdió”\n",
        "* “1” “Empate”\n",
        "* “2” “Ganó”\n",
        "\n",
        "Una vez terminado todo el proceso debe mostrarse la matriz con todas las jugadas y la función deberá\n",
        "retornar True si ganan los alumnos o False si pierden.\n",
        "¡Use todo lo de numpy que se le ocurra para hacer esto más fácil de implementar!"
      ]
    },
    {
      "cell_type": "code",
      "metadata": {
        "id": "nq2PJp2rGjv8"
      },
      "source": [
        ""
      ],
      "execution_count": null,
      "outputs": []
    }
  ]
}