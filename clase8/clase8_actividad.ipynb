{
  "nbformat": 4,
  "nbformat_minor": 0,
  "metadata": {
    "colab": {
      "name": "clase8_actividad.ipynb",
      "provenance": [],
      "collapsed_sections": []
    },
    "kernelspec": {
      "name": "python3",
      "display_name": "Python 3"
    }
  },
  "cells": [
    {
      "cell_type": "markdown",
      "metadata": {
        "id": "-d3YQIPLOaw1"
      },
      "source": [
        "# Actividad\n",
        "\n",
        "Cree una base de datos en heroku.\n",
        "\n",
        "Cree la tabla capitanes, botes y reservas (las mismas que le enseñaron en clase 7)\n",
        "\n",
        "Despues de crear las tablas haga lo siguiente:\n",
        "\n",
        "\n",
        "* Cree una función en la que un usuario especifique cuantos usarios quiere creear y posteriormente los cargue en la base de datos.\n",
        "* Cree una función que muestra a todos los usuarios por pantalla y posteriormente permita borrar a uno utilizando el id del usuario\n",
        "* Cree una función que permita modificar la edad de un usuario mediante su id\n",
        "\n",
        "Bonus:\n",
        "\n",
        "* Cargue la información en pandas y haga un grafico que relacione la edad con el rating de los capitanes\n",
        "\n"
      ]
    },
    {
      "cell_type": "code",
      "metadata": {
        "id": "Key9wirtOZ3B"
      },
      "source": [
        ""
      ],
      "execution_count": null,
      "outputs": []
    }
  ]
}